{
 "cells": [
  {
   "cell_type": "code",
   "id": "initial_id",
   "metadata": {
    "collapsed": true,
    "ExecuteTime": {
     "end_time": "2025-03-07T02:21:35.059160Z",
     "start_time": "2025-03-07T02:21:34.807749Z"
    }
   },
   "source": "import jieba",
   "outputs": [],
   "execution_count": 1
  },
  {
   "metadata": {
    "ExecuteTime": {
     "end_time": "2025-03-07T02:23:18.413531Z",
     "start_time": "2025-03-07T02:23:17.971454Z"
    }
   },
   "cell_type": "code",
   "source": [
    "# 全模式分词,将句子中所有可以成词的词语都扫描出来,速度非常快,但是不能消除歧义\n",
    "content = '吃葡萄不吐葡萄皮，不吃葡萄倒吐葡萄皮'\n",
    "jieba.cut(content, cut_all=True)\n",
    "jieba.lcut(content, cut_all=True)"
   ],
   "id": "b326510fe5228003",
   "outputs": [
    {
     "name": "stderr",
     "output_type": "stream",
     "text": [
      "Building prefix dict from the default dictionary ...\n",
      "Dumping model to file cache C:\\Users\\MR\\AppData\\Local\\Temp\\jieba.cache\n",
      "Loading model cost 0.434 seconds.\n",
      "Prefix dict has been built successfully.\n"
     ]
    },
    {
     "data": {
      "text/plain": [
       "['吃', '葡萄', '不', '吐', '葡萄', '皮', '，', '不吃', '葡萄', '倒', '吐', '葡萄', '皮']"
      ]
     },
     "execution_count": 2,
     "metadata": {},
     "output_type": "execute_result"
    }
   ],
   "execution_count": 2
  },
  {
   "metadata": {
    "ExecuteTime": {
     "end_time": "2025-03-07T02:26:18.944448Z",
     "start_time": "2025-03-07T02:26:18.939573Z"
    }
   },
   "cell_type": "code",
   "source": [
    "# 精确分词,适合文本分析\n",
    "jieba.cut(content, cut_all=False)\n",
    "jieba.lcut(content,cut_all=False)"
   ],
   "id": "9154d0b0c666ee6a",
   "outputs": [
    {
     "data": {
      "text/plain": [
       "['吃', '葡萄', '不吐', '葡萄', '皮', '，', '不吃', '葡萄', '倒', '吐', '葡萄', '皮']"
      ]
     },
     "execution_count": 4,
     "metadata": {},
     "output_type": "execute_result"
    }
   ],
   "execution_count": 4
  },
  {
   "metadata": {
    "ExecuteTime": {
     "end_time": "2025-03-07T02:53:20.164536Z",
     "start_time": "2025-03-07T02:53:20.160206Z"
    }
   },
   "cell_type": "code",
   "source": [
    "# 搜索引擎模式分类,在精确模式的基础上,对长词再次切分,提高召回率,适合用于搜索引擎\n",
    "jieba.cut_for_search(content)\n",
    "jieba.lcut_for_search(content)"
   ],
   "id": "fed9865885e636a3",
   "outputs": [
    {
     "data": {
      "text/plain": [
       "['吃', '葡萄', '不吐', '葡萄', '皮', '，', '不吃', '葡萄', '倒', '吐', '葡萄', '皮']"
      ]
     },
     "execution_count": 6,
     "metadata": {},
     "output_type": "execute_result"
    }
   ],
   "execution_count": 6
  },
  {
   "metadata": {},
   "cell_type": "code",
   "outputs": [],
   "execution_count": null,
   "source": "",
   "id": "863e04cd872322a4"
  },
  {
   "metadata": {},
   "cell_type": "code",
   "outputs": [],
   "execution_count": null,
   "source": "",
   "id": "9b18c35a2edd5abc"
  }
 ],
 "metadata": {
  "kernelspec": {
   "display_name": "Python 3",
   "language": "python",
   "name": "python3"
  },
  "language_info": {
   "codemirror_mode": {
    "name": "ipython",
    "version": 2
   },
   "file_extension": ".py",
   "mimetype": "text/x-python",
   "name": "python",
   "nbconvert_exporter": "python",
   "pygments_lexer": "ipython2",
   "version": "2.7.6"
  }
 },
 "nbformat": 4,
 "nbformat_minor": 5
}
